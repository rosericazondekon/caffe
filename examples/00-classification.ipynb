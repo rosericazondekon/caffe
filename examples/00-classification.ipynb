{
 "cells": [
  {
   "cell_type": "markdown",
   "metadata": {},
   "source": [
    "# Classification: Instant Recognition with Caffe\n",
    "\n",
    "In this example we'll classify an image with the bundled CaffeNet model (which is based on the network architecture of Krizhevsky et al. for ImageNet).\n",
    "\n",
    "We'll compare CPU and GPU modes and then dig into the model to inspect features and the output."
   ]
  },
  {
   "cell_type": "markdown",
   "metadata": {},
   "source": [
    "### 1. Setup\n",
    "\n",
    "* First, set up Python, `numpy`, and `matplotlib`."
   ]
  },
  {
   "cell_type": "code",
   "execution_count": 84,
   "metadata": {
    "collapsed": false
   },
   "outputs": [],
   "source": [
    "# set up Python environment: numpy for numerical routines, and matplotlib for plotting\n",
    "import numpy as np\n",
    "import matplotlib.pyplot as plt\n",
    "# display plots in this notebook\n",
    "%matplotlib inline\n",
    "\n",
    "# set display defaults\n",
    "plt.rcParams['figure.figsize'] = (10, 10)        # large images\n",
    "plt.rcParams['image.interpolation'] = 'nearest'  # don't interpolate: show square pixels\n",
    "plt.rcParams['image.cmap'] = 'gray'  # use grayscale output rather than a (potentially misleading) color heatmap"
   ]
  },
  {
   "cell_type": "markdown",
   "metadata": {},
   "source": [
    "* Load `caffe`."
   ]
  },
  {
   "cell_type": "code",
   "execution_count": 85,
   "metadata": {
    "collapsed": false
   },
   "outputs": [],
   "source": [
    "# The caffe module needs to be on the Python path;\n",
    "#  we'll add it here explicitly.\n",
    "import sys\n",
    "caffe_root = '../'  # this file should be run from {caffe_root}/examples (otherwise change this line)\n",
    "sys.path.insert(0, caffe_root + 'python')\n",
    "\n",
    "import caffe\n",
    "# If you get \"No module named _caffe\", either you have not built pycaffe or you have the wrong path."
   ]
  },
  {
   "cell_type": "markdown",
   "metadata": {},
   "source": [
    "* If needed, download the reference model (\"CaffeNet\", a variant of AlexNet)."
   ]
  },
  {
   "cell_type": "code",
   "execution_count": 86,
   "metadata": {
    "collapsed": false
   },
   "outputs": [
    {
     "name": "stdout",
     "output_type": "stream",
     "text": [
      "CaffeNet found.\n"
     ]
    }
   ],
   "source": [
    "import os\n",
    "if os.path.isfile(caffe_root + 'models/yeo/snapshot_iter_11040.caffemodel'):#bvlc_reference_caffenet/bvlc_reference_caffenet.caffemodel'):\n",
    "    print 'CaffeNet found.'\n",
    "else:\n",
    "    print 'Downloading pre-trained CaffeNet model...'\n",
    "    !../scripts/download_model_binary.py ../models/bvlc_reference_caffenet"
   ]
  },
  {
   "cell_type": "markdown",
   "metadata": {},
   "source": [
    "### 2. Load net and set up input preprocessing\n",
    "\n",
    "* Set Caffe to CPU mode and load the net from disk."
   ]
  },
  {
   "cell_type": "code",
   "execution_count": 87,
   "metadata": {
    "collapsed": false
   },
   "outputs": [],
   "source": [
    "caffe.set_mode_gpu()#cpu()\n",
    "\n",
    "model_def = caffe_root + 'models/yeo/deploy.prototxt'#bvlc_reference_caffenet/deploy.prototxt'\n",
    "model_weights = caffe_root + 'models/yeo/snapshot_iter_11040.caffemodel'#'models/bvlc_reference_caffenet/bvlc_reference_caffenet.caffemodel'\n",
    "\n",
    "net = caffe.Net(model_def,      # defines the structure of the model\n",
    "                model_weights,  # contains the trained weights\n",
    "                caffe.TEST)     # use test mode (e.g., don't perform dropout)"
   ]
  },
  {
   "cell_type": "markdown",
   "metadata": {},
   "source": [
    "* Set up input preprocessing. (We'll use Caffe's `caffe.io.Transformer` to do this, but this step is independent of other parts of Caffe, so any custom preprocessing code may be used).\n",
    "\n",
    "    Our default CaffeNet is configured to take images in BGR format. Values are expected to start in the range [0, 255] and then have the mean ImageNet pixel value subtracted from them. In addition, the channel dimension is expected as the first (_outermost_) dimension.\n",
    "    \n",
    "    As matplotlib will load images with values in the range [0, 1] in RGB format with the channel as the _innermost_ dimension, we are arranging for the needed transformations here."
   ]
  },
  {
   "cell_type": "code",
   "execution_count": 88,
   "metadata": {
    "collapsed": false
   },
   "outputs": [
    {
     "name": "stdout",
     "output_type": "stream",
     "text": [
      "mean-subtracted values: [('B', 223.47935485839844), ('G', 227.98309326171875), ('R', 227.12831115722656)]\n"
     ]
    }
   ],
   "source": [
    "# load the mean ImageNet image (as distributed with Caffe) for subtraction\n",
    "mu = np.load(caffe_root + '../nn/models/yeo/mean.npy')#python/caffe/imagenet/ilsvrc_2012_mean.npy')\n",
    "mu = mu.mean(1).mean(1)  # average over pixels to obtain the mean (BGR) pixel values\n",
    "print 'mean-subtracted values:', zip('BGR', mu)\n",
    "\n",
    "# create transformer for the input called 'data'\n",
    "transformer = caffe.io.Transformer({'data': net.blobs['data'].data.shape})\n",
    "\n",
    "transformer.set_transpose('data', (2,0,1))  # move image channels to outermost dimension\n",
    "transformer.set_mean('data', mu)            # subtract the dataset-mean value in each channel\n",
    "transformer.set_raw_scale('data', 255)      # rescale from [0, 1] to [0, 255]\n",
    "transformer.set_channel_swap('data', (2,1,0))  # swap channels from RGB to BGR"
   ]
  },
  {
   "cell_type": "markdown",
   "metadata": {},
   "source": [
    "### 3. CPU classification\n",
    "\n",
    "* Now we're ready to perform classification. Even though we'll only classify one image, we'll set a batch size of 50 to demonstrate batching."
   ]
  },
  {
   "cell_type": "code",
   "execution_count": 89,
   "metadata": {
    "collapsed": false
   },
   "outputs": [],
   "source": [
    "# set the size of the input (we can skip this if we're happy\n",
    "#  with the default; we can also change it later, e.g., for different batch sizes)\n",
    "net.blobs['data'].reshape(50,        # batch size\n",
    "                          3,         # 3-channel (BGR) images\n",
    "                          227, 227)  # image size is 227x227"
   ]
  },
  {
   "cell_type": "markdown",
   "metadata": {},
   "source": [
    "* Load an image (that comes with Caffe) and perform the preprocessing we've set up."
   ]
  },
  {
   "cell_type": "code",
   "execution_count": 120,
   "metadata": {
    "collapsed": false
   },
   "outputs": [
    {
     "data": {
      "text/plain": [
       "<matplotlib.image.AxesImage at 0x7f29b6a97c50>"
      ]
     },
     "execution_count": 120,
     "metadata": {},
     "output_type": "execute_result"
    },
    {
     "data": {
      "image/png": "[encoded data removed]",
      "text/plain": [
       "<matplotlib.figure.Figure at 0x7f29b5e56fd0>"
      ]
     },
     "metadata": {},
     "output_type": "display_data"
    }
   ],
   "source": [
    "image = caffe.io.load_image(caffe_root + '../deep-visualization-toolbox/input_images/S112920_10032.png')#examples/images/cat.jpg')\n",
    "transformed_image = transformer.preprocess('data', image)\n",
    "plt.imshow(image)"
   ]
  },
  {
   "cell_type": "markdown",
   "metadata": {},
   "source": [
    "* Adorable! Let's classify it!"
   ]
  },
  {
   "cell_type": "code",
   "execution_count": 91,
   "metadata": {
    "collapsed": false
   },
   "outputs": [
    {
     "data": {
      "text/plain": [
       "OrderedDict([('conv1/7x7_s2', <caffe._caffe.BlobVec at 0x7f29b686b360>),\n",
       "             ('conv2/3x3_reduce', <caffe._caffe.BlobVec at 0x7f29b593b3d0>),\n",
       "             ('conv2/3x3', <caffe._caffe.BlobVec at 0x7f29b593b7c0>),\n",
       "             ('inception_3a/1x1', <caffe._caffe.BlobVec at 0x7f29b593b910>),\n",
       "             ('inception_3a/3x3_reduce',\n",
       "              <caffe._caffe.BlobVec at 0x7f29b593b980>),\n",
       "             ('inception_3a/3x3', <caffe._caffe.BlobVec at 0x7f29b593b9f0>),\n",
       "             ('inception_3a/5x5_reduce',\n",
       "              <caffe._caffe.BlobVec at 0x7f29b593ba60>),\n",
       "             ('inception_3a/5x5', <caffe._caffe.BlobVec at 0x7f29b593bad0>),\n",
       "             ('inception_3a/pool_proj',\n",
       "              <caffe._caffe.BlobVec at 0x7f29b593bb40>),\n",
       "             ('inception_3b/1x1', <caffe._caffe.BlobVec at 0x7f29b593bbb0>),\n",
       "             ('inception_3b/3x3_reduce',\n",
       "              <caffe._caffe.BlobVec at 0x7f29b593bc20>),\n",
       "             ('inception_3b/3x3', <caffe._caffe.BlobVec at 0x7f29b593bc90>),\n",
       "             ('inception_3b/5x5_reduce',\n",
       "              <caffe._caffe.BlobVec at 0x7f29b593bd00>),\n",
       "             ('inception_3b/5x5', <caffe._caffe.BlobVec at 0x7f29b593bd70>),\n",
       "             ('inception_3b/pool_proj',\n",
       "              <caffe._caffe.BlobVec at 0x7f29b593bde0>),\n",
       "             ('inception_4a/1x1', <caffe._caffe.BlobVec at 0x7f29b593be50>),\n",
       "             ('inception_4a/3x3_reduce',\n",
       "              <caffe._caffe.BlobVec at 0x7f29b593bec0>),\n",
       "             ('inception_4a/3x3', <caffe._caffe.BlobVec at 0x7f29b593bf30>),\n",
       "             ('inception_4a/5x5_reduce',\n",
       "              <caffe._caffe.BlobVec at 0x7f29b593bfa0>),\n",
       "             ('inception_4a/5x5', <caffe._caffe.BlobVec at 0x7f29b6a86050>),\n",
       "             ('inception_4a/pool_proj',\n",
       "              <caffe._caffe.BlobVec at 0x7f29b6a860c0>),\n",
       "             ('loss1/conv', <caffe._caffe.BlobVec at 0x7f29b6a86130>),\n",
       "             ('loss1/fc', <caffe._caffe.BlobVec at 0x7f29b6a861a0>),\n",
       "             ('loss1/classifier', <caffe._caffe.BlobVec at 0x7f29b6a86210>),\n",
       "             ('inception_4b/1x1', <caffe._caffe.BlobVec at 0x7f29b6a86280>),\n",
       "             ('inception_4b/3x3_reduce',\n",
       "              <caffe._caffe.BlobVec at 0x7f29b6a862f0>),\n",
       "             ('inception_4b/3x3', <caffe._caffe.BlobVec at 0x7f29b6a86360>),\n",
       "             ('inception_4b/5x5_reduce',\n",
       "              <caffe._caffe.BlobVec at 0x7f29b6a863d0>),\n",
       "             ('inception_4b/5x5', <caffe._caffe.BlobVec at 0x7f29b6a86440>),\n",
       "             ('inception_4b/pool_proj',\n",
       "              <caffe._caffe.BlobVec at 0x7f29b6a864b0>),\n",
       "             ('inception_4c/1x1', <caffe._caffe.BlobVec at 0x7f29b6a86520>),\n",
       "             ('inception_4c/3x3_reduce',\n",
       "              <caffe._caffe.BlobVec at 0x7f29b6a86590>),\n",
       "             ('inception_4c/3x3', <caffe._caffe.BlobVec at 0x7f29b6a86600>),\n",
       "             ('inception_4c/5x5_reduce',\n",
       "              <caffe._caffe.BlobVec at 0x7f29b6a86670>),\n",
       "             ('inception_4c/5x5', <caffe._caffe.BlobVec at 0x7f29b6a866e0>),\n",
       "             ('inception_4c/pool_proj',\n",
       "              <caffe._caffe.BlobVec at 0x7f29b6a86750>),\n",
       "             ('inception_4d/1x1', <caffe._caffe.BlobVec at 0x7f29b6a867c0>),\n",
       "             ('inception_4d/3x3_reduce',\n",
       "              <caffe._caffe.BlobVec at 0x7f29b6a86830>),\n",
       "             ('inception_4d/3x3', <caffe._caffe.BlobVec at 0x7f29b6a868a0>),\n",
       "             ('inception_4d/5x5_reduce',\n",
       "              <caffe._caffe.BlobVec at 0x7f29b6a86910>),\n",
       "             ('inception_4d/5x5', <caffe._caffe.BlobVec at 0x7f29b6a86980>),\n",
       "             ('inception_4d/pool_proj',\n",
       "              <caffe._caffe.BlobVec at 0x7f29b6a869f0>),\n",
       "             ('loss2/conv', <caffe._caffe.BlobVec at 0x7f29b6a86a60>),\n",
       "             ('loss2/fc', <caffe._caffe.BlobVec at 0x7f29b6a86ad0>),\n",
       "             ('loss2/classifier', <caffe._caffe.BlobVec at 0x7f29b6a86b40>),\n",
       "             ('inception_4e/1x1', <caffe._caffe.BlobVec at 0x7f29b6a86bb0>),\n",
       "             ('inception_4e/3x3_reduce',\n",
       "              <caffe._caffe.BlobVec at 0x7f29b6a86c20>),\n",
       "             ('inception_4e/3x3', <caffe._caffe.BlobVec at 0x7f29b6a86c90>),\n",
       "             ('inception_4e/5x5_reduce',\n",
       "              <caffe._caffe.BlobVec at 0x7f29b6a86d00>),\n",
       "             ('inception_4e/5x5', <caffe._caffe.BlobVec at 0x7f29b6a86d70>),\n",
       "             ('inception_4e/pool_proj',\n",
       "              <caffe._caffe.BlobVec at 0x7f29b6a86de0>),\n",
       "             ('inception_5a/1x1', <caffe._caffe.BlobVec at 0x7f29b6a86e50>),\n",
       "             ('inception_5a/3x3_reduce',\n",
       "              <caffe._caffe.BlobVec at 0x7f29b6a86ec0>),\n",
       "             ('inception_5a/3x3', <caffe._caffe.BlobVec at 0x7f29b6a86f30>),\n",
       "             ('inception_5a/5x5_reduce',\n",
       "              <caffe._caffe.BlobVec at 0x7f29b6a86fa0>),\n",
       "             ('inception_5a/5x5', <caffe._caffe.BlobVec at 0x7f29b58f3050>),\n",
       "             ('inception_5a/pool_proj',\n",
       "              <caffe._caffe.BlobVec at 0x7f29b58f30c0>),\n",
       "             ('inception_5b/1x1', <caffe._caffe.BlobVec at 0x7f29b58f3130>),\n",
       "             ('inception_5b/3x3_reduce',\n",
       "              <caffe._caffe.BlobVec at 0x7f29b58f31a0>),\n",
       "             ('inception_5b/3x3', <caffe._caffe.BlobVec at 0x7f29b58f3210>),\n",
       "             ('inception_5b/5x5_reduce',\n",
       "              <caffe._caffe.BlobVec at 0x7f29b58f3280>),\n",
       "             ('inception_5b/5x5', <caffe._caffe.BlobVec at 0x7f29b58f32f0>),\n",
       "             ('inception_5b/pool_proj',\n",
       "              <caffe._caffe.BlobVec at 0x7f29b58f3360>),\n",
       "             ('loss3/classifier', <caffe._caffe.BlobVec at 0x7f29b58f33d0>)])"
      ]
     },
     "execution_count": 91,
     "metadata": {},
     "output_type": "execute_result"
    }
   ],
   "source": [
    "net.params"
   ]
  },
  {
   "cell_type": "code",
   "execution_count": 92,
   "metadata": {
    "collapsed": false
   },
   "outputs": [
    {
     "ename": "ValueError",
     "evalue": "could not broadcast input array from shape (3,224,224) into shape (50,3,227,227)",
     "output_type": "error",
     "traceback": [
      "\u001b[1;31m---------------------------------------------------------------------------\u001b[0m",
      "\u001b[1;31mValueError\u001b[0m                                Traceback (most recent call last)",
      "\u001b[1;32m<ipython-input-92-d04763912b22>\u001b[0m in \u001b[0;36m<module>\u001b[1;34m()\u001b[0m\n\u001b[0;32m      1\u001b[0m \u001b[1;31m# copy the image data into the memory allocated for the net\u001b[0m\u001b[1;33m\u001b[0m\u001b[1;33m\u001b[0m\u001b[0m\n\u001b[1;32m----> 2\u001b[1;33m \u001b[0mnet\u001b[0m\u001b[1;33m.\u001b[0m\u001b[0mblobs\u001b[0m\u001b[1;33m[\u001b[0m\u001b[1;34m'data'\u001b[0m\u001b[1;33m]\u001b[0m\u001b[1;33m.\u001b[0m\u001b[0mdata\u001b[0m\u001b[1;33m[\u001b[0m\u001b[1;33m.\u001b[0m\u001b[1;33m.\u001b[0m\u001b[1;33m.\u001b[0m\u001b[1;33m]\u001b[0m \u001b[1;33m=\u001b[0m \u001b[0mtransformed_image\u001b[0m\u001b[1;33m\u001b[0m\u001b[0m\n\u001b[0m\u001b[0;32m      3\u001b[0m \u001b[1;33m\u001b[0m\u001b[0m\n\u001b[0;32m      4\u001b[0m \u001b[1;31m### perform classification\u001b[0m\u001b[1;33m\u001b[0m\u001b[1;33m\u001b[0m\u001b[0m\n\u001b[0;32m      5\u001b[0m \u001b[0moutput\u001b[0m \u001b[1;33m=\u001b[0m \u001b[0mnet\u001b[0m\u001b[1;33m.\u001b[0m\u001b[0mforward\u001b[0m\u001b[1;33m(\u001b[0m\u001b[1;33m)\u001b[0m\u001b[1;33m\u001b[0m\u001b[0m\n",
      "\u001b[1;31mValueError\u001b[0m: could not broadcast input array from shape (3,224,224) into shape (50,3,227,227)"
     ]
    }
   ],
   "source": [
    "# copy the image data into the memory allocated for the net\n",
    "net.blobs['data'].data[...] = transformed_image\n",
    "\n",
    "### perform classification\n",
    "output = net.forward()\n",
    "\n",
    "output_prob = output['prob'][0]  # the output probability vector for the first image in the batch\n",
    "\n",
    "print 'predicted class is:', output_prob.argmax()"
   ]
  },
  {
   "cell_type": "markdown",
   "metadata": {},
   "source": [
    "* The net gives us a vector of probabilities; the most probable class was the 281st one. But is that correct? Let's check the ImageNet labels..."
   ]
  },
  {
   "cell_type": "code",
   "execution_count": 93,
   "metadata": {
    "collapsed": false
   },
   "outputs": [
    {
     "name": "stdout",
     "output_type": "stream",
     "text": [
      "Downloading...\n",
      "--2016-07-20 11:54:06--  http://dl.caffe.berkeleyvision.org/caffe_ilsvrc12.tar.gz\n",
      "Resolving dl.caffe.berkeleyvision.org (dl.caffe.berkeleyvision.org)... 169.229.222.251\n",
      "Connecting to dl.caffe.berkeleyvision.org (dl.caffe.berkeleyvision.org)|169.229.222.251|:80... connected.\n",
      "HTTP request sent, awaiting response... 200 OK\n",
      "Length: 17858008 (17M) [application/octet-stream]\n",
      "Saving to: ‘caffe_ilsvrc12.tar.gz’\n",
      "\n",
      "100%[======================================>] 17,858,008  14.6MB/s   in 1.2s   \n",
      "\n",
      "2016-07-20 11:54:07 (14.6 MB/s) - ‘caffe_ilsvrc12.tar.gz’ saved [17858008/17858008]\n",
      "\n",
      "Unzipping...\n",
      "Done.\n",
      "output label:"
     ]
    },
    {
     "ename": "NameError",
     "evalue": "name 'output_prob' is not defined",
     "output_type": "error",
     "traceback": [
      "\u001b[1;31m---------------------------------------------------------------------------\u001b[0m",
      "\u001b[1;31mNameError\u001b[0m                                 Traceback (most recent call last)",
      "\u001b[1;32m<ipython-input-93-da1ad4d0ecde>\u001b[0m in \u001b[0;36m<module>\u001b[1;34m()\u001b[0m\n\u001b[0;32m      6\u001b[0m \u001b[0mlabels\u001b[0m \u001b[1;33m=\u001b[0m \u001b[0mnp\u001b[0m\u001b[1;33m.\u001b[0m\u001b[0mloadtxt\u001b[0m\u001b[1;33m(\u001b[0m\u001b[0mlabels_file\u001b[0m\u001b[1;33m,\u001b[0m \u001b[0mstr\u001b[0m\u001b[1;33m,\u001b[0m \u001b[0mdelimiter\u001b[0m\u001b[1;33m=\u001b[0m\u001b[1;34m'\\t'\u001b[0m\u001b[1;33m)\u001b[0m\u001b[1;33m\u001b[0m\u001b[0m\n\u001b[0;32m      7\u001b[0m \u001b[1;33m\u001b[0m\u001b[0m\n\u001b[1;32m----> 8\u001b[1;33m \u001b[1;32mprint\u001b[0m \u001b[1;34m'output label:'\u001b[0m\u001b[1;33m,\u001b[0m \u001b[0mlabels\u001b[0m\u001b[1;33m[\u001b[0m\u001b[0moutput_prob\u001b[0m\u001b[1;33m.\u001b[0m\u001b[0margmax\u001b[0m\u001b[1;33m(\u001b[0m\u001b[1;33m)\u001b[0m\u001b[1;33m]\u001b[0m\u001b[1;33m\u001b[0m\u001b[0m\n\u001b[0m",
      "\u001b[1;31mNameError\u001b[0m: name 'output_prob' is not defined"
     ]
    }
   ],
   "source": [
    "# load ImageNet labels\n",
    "# labels_file = caffe_root + 'data/ilsvrc12/synset_words.txt'\n",
    "# if not os.path.exists(labels_file):\n",
    "#     !../data/ilsvrc12/get_ilsvrc_aux.sh\n",
    "    \n",
    "# labels = np.loadtxt(labels_file, str, delimiter='\\t')\n",
    "\n",
    "# print 'output label:', labels[output_prob.argmax()]"
   ]
  },
  {
   "cell_type": "markdown",
   "metadata": {},
   "source": [
    "* \"Tabby cat\" is correct! But let's also look at other top (but less confident predictions)."
   ]
  },
  {
   "cell_type": "code",
   "execution_count": 94,
   "metadata": {
    "collapsed": false
   },
   "outputs": [
    {
     "ename": "NameError",
     "evalue": "name 'output_prob' is not defined",
     "output_type": "error",
     "traceback": [
      "\u001b[1;31m---------------------------------------------------------------------------\u001b[0m",
      "\u001b[1;31mNameError\u001b[0m                                 Traceback (most recent call last)",
      "\u001b[1;32m<ipython-input-94-941a766d3b6c>\u001b[0m in \u001b[0;36m<module>\u001b[1;34m()\u001b[0m\n\u001b[0;32m      1\u001b[0m \u001b[1;31m# sort top five predictions from softmax output\u001b[0m\u001b[1;33m\u001b[0m\u001b[1;33m\u001b[0m\u001b[0m\n\u001b[1;32m----> 2\u001b[1;33m \u001b[0mtop_inds\u001b[0m \u001b[1;33m=\u001b[0m \u001b[0moutput_prob\u001b[0m\u001b[1;33m.\u001b[0m\u001b[0margsort\u001b[0m\u001b[1;33m(\u001b[0m\u001b[1;33m)\u001b[0m\u001b[1;33m[\u001b[0m\u001b[1;33m:\u001b[0m\u001b[1;33m:\u001b[0m\u001b[1;33m-\u001b[0m\u001b[1;36m1\u001b[0m\u001b[1;33m]\u001b[0m\u001b[1;33m[\u001b[0m\u001b[1;33m:\u001b[0m\u001b[1;36m5\u001b[0m\u001b[1;33m]\u001b[0m  \u001b[1;31m# reverse sort and take five largest items\u001b[0m\u001b[1;33m\u001b[0m\u001b[0m\n\u001b[0m\u001b[0;32m      3\u001b[0m \u001b[1;33m\u001b[0m\u001b[0m\n\u001b[0;32m      4\u001b[0m \u001b[1;32mprint\u001b[0m \u001b[1;34m'probabilities and labels:'\u001b[0m\u001b[1;33m\u001b[0m\u001b[0m\n\u001b[0;32m      5\u001b[0m \u001b[0mzip\u001b[0m\u001b[1;33m(\u001b[0m\u001b[0moutput_prob\u001b[0m\u001b[1;33m[\u001b[0m\u001b[0mtop_inds\u001b[0m\u001b[1;33m]\u001b[0m\u001b[1;33m,\u001b[0m \u001b[0mlabels\u001b[0m\u001b[1;33m[\u001b[0m\u001b[0mtop_inds\u001b[0m\u001b[1;33m]\u001b[0m\u001b[1;33m)\u001b[0m\u001b[1;33m\u001b[0m\u001b[0m\n",
      "\u001b[1;31mNameError\u001b[0m: name 'output_prob' is not defined"
     ]
    }
   ],
   "source": [
    "# sort top five predictions from softmax output\n",
    "top_inds = output_prob.argsort()[::-1][:5]  # reverse sort and take five largest items\n",
    "\n",
    "print 'probabilities and labels:'\n",
    "zip(output_prob[top_inds], labels[top_inds])"
   ]
  },
  {
   "cell_type": "markdown",
   "metadata": {},
   "source": [
    "* We see that less confident predictions are sensible."
   ]
  },
  {
   "cell_type": "markdown",
   "metadata": {},
   "source": [
    "### 4. Switching to GPU mode\n",
    "\n",
    "* Let's see how long classification took, and compare it to GPU mode."
   ]
  },
  {
   "cell_type": "code",
   "execution_count": 95,
   "metadata": {
    "collapsed": false
   },
   "outputs": [
    {
     "name": "stdout",
     "output_type": "stream",
     "text": [
      "10 loops, best of 3: 57.7 ms per loop\n",
      "\n"
     ]
    }
   ],
   "source": [
    "%timeit net.forward()"
   ]
  },
  {
   "cell_type": "markdown",
   "metadata": {},
   "source": [
    "* That's a while, even for a batch of 50 images. Let's switch to GPU mode."
   ]
  },
  {
   "cell_type": "code",
   "execution_count": 96,
   "metadata": {
    "collapsed": false
   },
   "outputs": [
    {
     "name": "stdout",
     "output_type": "stream",
     "text": [
      "10 loops, best of 3: 57.7 ms per loop\n"
     ]
    }
   ],
   "source": [
    "caffe.set_device(0)  # if we have multiple GPUs, pick the first one\n",
    "caffe.set_mode_gpu()\n",
    "net.forward()  # run once before timing to set up memory\n",
    "%timeit net.forward()"
   ]
  },
  {
   "cell_type": "markdown",
   "metadata": {},
   "source": [
    "* That should be much faster!"
   ]
  },
  {
   "cell_type": "markdown",
   "metadata": {},
   "source": [
    "### 5. Examining intermediate output\n",
    "\n",
    "* A net is not just a black box; let's take a look at some of the parameters and intermediate activations.\n",
    "\n",
    "First we'll see how to read out the structure of the net in terms of activation and parameter shapes.\n",
    "\n",
    "* For each layer, let's look at the activation shapes, which typically have the form `(batch_size, channel_dim, height, width)`.\n",
    "\n",
    "    The activations are exposed as an `OrderedDict`, `net.blobs`."
   ]
  },
  {
   "cell_type": "code",
   "execution_count": 97,
   "metadata": {
    "collapsed": false
   },
   "outputs": [
    {
     "name": "stdout",
     "output_type": "stream",
     "text": [
      "data\t(50, 3, 227, 227)\n",
      "conv1/7x7_s2\t(50, 64, 114, 114)\n",
      "pool1/3x3_s2\t(50, 64, 57, 57)\n",
      "pool1/norm1\t(50, 64, 57, 57)\n",
      "conv2/3x3_reduce\t(50, 64, 57, 57)\n",
      "conv2/3x3\t(50, 192, 57, 57)\n",
      "conv2/norm2\t(50, 192, 57, 57)\n",
      "pool2/3x3_s2\t(50, 192, 28, 28)\n",
      "pool2/3x3_s2_pool2/3x3_s2_0_split_0\t(50, 192, 28, 28)\n",
      "pool2/3x3_s2_pool2/3x3_s2_0_split_1\t(50, 192, 28, 28)\n",
      "pool2/3x3_s2_pool2/3x3_s2_0_split_2\t(50, 192, 28, 28)\n",
      "pool2/3x3_s2_pool2/3x3_s2_0_split_3\t(50, 192, 28, 28)\n",
      "inception_3a/1x1\t(50, 64, 28, 28)\n",
      "inception_3a/3x3_reduce\t(50, 96, 28, 28)\n",
      "inception_3a/3x3\t(50, 128, 28, 28)\n",
      "inception_3a/5x5_reduce\t(50, 16, 28, 28)\n",
      "inception_3a/5x5\t(50, 32, 28, 28)\n",
      "inception_3a/pool\t(50, 192, 28, 28)\n",
      "inception_3a/pool_proj\t(50, 32, 28, 28)\n",
      "inception_3a/output\t(50, 256, 28, 28)\n",
      "inception_3a/output_inception_3a/output_0_split_0\t(50, 256, 28, 28)\n",
      "inception_3a/output_inception_3a/output_0_split_1\t(50, 256, 28, 28)\n",
      "inception_3a/output_inception_3a/output_0_split_2\t(50, 256, 28, 28)\n",
      "inception_3a/output_inception_3a/output_0_split_3\t(50, 256, 28, 28)\n",
      "inception_3b/1x1\t(50, 128, 28, 28)\n",
      "inception_3b/3x3_reduce\t(50, 128, 28, 28)\n",
      "inception_3b/3x3\t(50, 192, 28, 28)\n",
      "inception_3b/5x5_reduce\t(50, 32, 28, 28)\n",
      "inception_3b/5x5\t(50, 96, 28, 28)\n",
      "inception_3b/pool\t(50, 256, 28, 28)\n",
      "inception_3b/pool_proj\t(50, 64, 28, 28)\n",
      "inception_3b/output\t(50, 480, 28, 28)\n",
      "pool3/3x3_s2\t(50, 480, 14, 14)\n",
      "pool3/3x3_s2_pool3/3x3_s2_0_split_0\t(50, 480, 14, 14)\n",
      "pool3/3x3_s2_pool3/3x3_s2_0_split_1\t(50, 480, 14, 14)\n",
      "pool3/3x3_s2_pool3/3x3_s2_0_split_2\t(50, 480, 14, 14)\n",
      "pool3/3x3_s2_pool3/3x3_s2_0_split_3\t(50, 480, 14, 14)\n",
      "inception_4a/1x1\t(50, 192, 14, 14)\n",
      "inception_4a/3x3_reduce\t(50, 96, 14, 14)\n",
      "inception_4a/3x3\t(50, 208, 14, 14)\n",
      "inception_4a/5x5_reduce\t(50, 16, 14, 14)\n",
      "inception_4a/5x5\t(50, 48, 14, 14)\n",
      "inception_4a/pool\t(50, 480, 14, 14)\n",
      "inception_4a/pool_proj\t(50, 64, 14, 14)\n",
      "inception_4a/output\t(50, 512, 14, 14)\n",
      "inception_4a/output_inception_4a/output_0_split_0\t(50, 512, 14, 14)\n",
      "inception_4a/output_inception_4a/output_0_split_1\t(50, 512, 14, 14)\n",
      "inception_4a/output_inception_4a/output_0_split_2\t(50, 512, 14, 14)\n",
      "inception_4a/output_inception_4a/output_0_split_3\t(50, 512, 14, 14)\n",
      "inception_4a/output_inception_4a/output_0_split_4\t(50, 512, 14, 14)\n",
      "loss1/ave_pool\t(50, 512, 4, 4)\n",
      "loss1/conv\t(50, 128, 4, 4)\n",
      "loss1/fc\t(50, 1024)\n",
      "loss1/classifier\t(50, 4)\n",
      "inception_4b/1x1\t(50, 160, 14, 14)\n",
      "inception_4b/3x3_reduce\t(50, 112, 14, 14)\n",
      "inception_4b/3x3\t(50, 224, 14, 14)\n",
      "inception_4b/5x5_reduce\t(50, 24, 14, 14)\n",
      "inception_4b/5x5\t(50, 64, 14, 14)\n",
      "inception_4b/pool\t(50, 512, 14, 14)\n",
      "inception_4b/pool_proj\t(50, 64, 14, 14)\n",
      "inception_4b/output\t(50, 512, 14, 14)\n",
      "inception_4b/output_inception_4b/output_0_split_0\t(50, 512, 14, 14)\n",
      "inception_4b/output_inception_4b/output_0_split_1\t(50, 512, 14, 14)\n",
      "inception_4b/output_inception_4b/output_0_split_2\t(50, 512, 14, 14)\n",
      "inception_4b/output_inception_4b/output_0_split_3\t(50, 512, 14, 14)\n",
      "inception_4c/1x1\t(50, 128, 14, 14)\n",
      "inception_4c/3x3_reduce\t(50, 128, 14, 14)\n",
      "inception_4c/3x3\t(50, 256, 14, 14)\n",
      "inception_4c/5x5_reduce\t(50, 24, 14, 14)\n",
      "inception_4c/5x5\t(50, 64, 14, 14)\n",
      "inception_4c/pool\t(50, 512, 14, 14)\n",
      "inception_4c/pool_proj\t(50, 64, 14, 14)\n",
      "inception_4c/output\t(50, 512, 14, 14)\n",
      "inception_4c/output_inception_4c/output_0_split_0\t(50, 512, 14, 14)\n",
      "inception_4c/output_inception_4c/output_0_split_1\t(50, 512, 14, 14)\n",
      "inception_4c/output_inception_4c/output_0_split_2\t(50, 512, 14, 14)\n",
      "inception_4c/output_inception_4c/output_0_split_3\t(50, 512, 14, 14)\n",
      "inception_4d/1x1\t(50, 112, 14, 14)\n",
      "inception_4d/3x3_reduce\t(50, 144, 14, 14)\n",
      "inception_4d/3x3\t(50, 288, 14, 14)\n",
      "inception_4d/5x5_reduce\t(50, 32, 14, 14)\n",
      "inception_4d/5x5\t(50, 64, 14, 14)\n",
      "inception_4d/pool\t(50, 512, 14, 14)\n",
      "inception_4d/pool_proj\t(50, 64, 14, 14)\n",
      "inception_4d/output\t(50, 528, 14, 14)\n",
      "inception_4d/output_inception_4d/output_0_split_0\t(50, 528, 14, 14)\n",
      "inception_4d/output_inception_4d/output_0_split_1\t(50, 528, 14, 14)\n",
      "inception_4d/output_inception_4d/output_0_split_2\t(50, 528, 14, 14)\n",
      "inception_4d/output_inception_4d/output_0_split_3\t(50, 528, 14, 14)\n",
      "inception_4d/output_inception_4d/output_0_split_4\t(50, 528, 14, 14)\n",
      "loss2/ave_pool\t(50, 528, 4, 4)\n",
      "loss2/conv\t(50, 128, 4, 4)\n",
      "loss2/fc\t(50, 1024)\n",
      "loss2/classifier\t(50, 4)\n",
      "inception_4e/1x1\t(50, 256, 14, 14)\n",
      "inception_4e/3x3_reduce\t(50, 160, 14, 14)\n",
      "inception_4e/3x3\t(50, 320, 14, 14)\n",
      "inception_4e/5x5_reduce\t(50, 32, 14, 14)\n",
      "inception_4e/5x5\t(50, 128, 14, 14)\n",
      "inception_4e/pool\t(50, 528, 14, 14)\n",
      "inception_4e/pool_proj\t(50, 128, 14, 14)\n",
      "inception_4e/output\t(50, 832, 14, 14)\n",
      "pool4/3x3_s2\t(50, 832, 7, 7)\n",
      "pool4/3x3_s2_pool4/3x3_s2_0_split_0\t(50, 832, 7, 7)\n",
      "pool4/3x3_s2_pool4/3x3_s2_0_split_1\t(50, 832, 7, 7)\n",
      "pool4/3x3_s2_pool4/3x3_s2_0_split_2\t(50, 832, 7, 7)\n",
      "pool4/3x3_s2_pool4/3x3_s2_0_split_3\t(50, 832, 7, 7)\n",
      "inception_5a/1x1\t(50, 256, 7, 7)\n",
      "inception_5a/3x3_reduce\t(50, 160, 7, 7)\n",
      "inception_5a/3x3\t(50, 320, 7, 7)\n",
      "inception_5a/5x5_reduce\t(50, 32, 7, 7)\n",
      "inception_5a/5x5\t(50, 128, 7, 7)\n",
      "inception_5a/pool\t(50, 832, 7, 7)\n",
      "inception_5a/pool_proj\t(50, 128, 7, 7)\n",
      "inception_5a/output\t(50, 832, 7, 7)\n",
      "inception_5a/output_inception_5a/output_0_split_0\t(50, 832, 7, 7)\n",
      "inception_5a/output_inception_5a/output_0_split_1\t(50, 832, 7, 7)\n",
      "inception_5a/output_inception_5a/output_0_split_2\t(50, 832, 7, 7)\n",
      "inception_5a/output_inception_5a/output_0_split_3\t(50, 832, 7, 7)\n",
      "inception_5b/1x1\t(50, 384, 7, 7)\n",
      "inception_5b/3x3_reduce\t(50, 192, 7, 7)\n",
      "inception_5b/3x3\t(50, 384, 7, 7)\n",
      "inception_5b/5x5_reduce\t(50, 48, 7, 7)\n",
      "inception_5b/5x5\t(50, 128, 7, 7)\n",
      "inception_5b/pool\t(50, 832, 7, 7)\n",
      "inception_5b/pool_proj\t(50, 128, 7, 7)\n",
      "inception_5b/output\t(50, 1024, 7, 7)\n",
      "pool5/7x7_s1\t(50, 1024, 1, 1)\n",
      "loss3/classifier\t(50, 4)\n",
      "prob\t(50, 4)\n"
     ]
    }
   ],
   "source": [
    "# for each layer, show the output shape\n",
    "for layer_name, blob in net.blobs.iteritems():\n",
    "    print layer_name + '\\t' + str(blob.data.shape)"
   ]
  },
  {
   "cell_type": "code",
   "execution_count": 98,
   "metadata": {
    "collapsed": true
   },
   "outputs": [],
   "source": [
    "# data\t(50, 3, 227, 227)\n",
    "# conv1\t(50, 96, 55, 55)\n",
    "# pool1\t(50, 96, 27, 27)\n",
    "# norm1\t(50, 96, 27, 27)\n",
    "# conv2\t(50, 256, 27, 27)\n",
    "# pool2\t(50, 256, 13, 13)\n",
    "# norm2\t(50, 256, 13, 13)\n",
    "# conv3\t(50, 384, 13, 13)\n",
    "# conv4\t(50, 384, 13, 13)\n",
    "# conv5\t(50, 256, 13, 13)\n",
    "# pool5\t(50, 256, 6, 6)\n",
    "# fc6\t(50, 4096)\n",
    "# fc7\t(50, 4096)\n",
    "# fc8\t(50, 1000)\n",
    "# prob\t(50, 1000)"
   ]
  },
  {
   "cell_type": "markdown",
   "metadata": {},
   "source": [
    "* Now look at the parameter shapes. The parameters are exposed as another `OrderedDict`, `net.params`. We need to index the resulting values with either `[0]` for weights or `[1]` for biases.\n",
    "\n",
    "    The param shapes typically have the form `(output_channels, input_channels, filter_height, filter_width)` (for the weights) and the 1-dimensional shape `(output_channels,)` (for the biases)."
   ]
  },
  {
   "cell_type": "code",
   "execution_count": 99,
   "metadata": {
    "collapsed": false
   },
   "outputs": [
    {
     "name": "stdout",
     "output_type": "stream",
     "text": [
      "conv1/7x7_s2\t(64, 3, 7, 7) (64,)\n",
      "conv2/3x3_reduce\t(64, 64, 1, 1) (64,)\n",
      "conv2/3x3\t(192, 64, 3, 3) (192,)\n",
      "inception_3a/1x1\t(64, 192, 1, 1) (64,)\n",
      "inception_3a/3x3_reduce\t(96, 192, 1, 1) (96,)\n",
      "inception_3a/3x3\t(128, 96, 3, 3) (128,)\n",
      "inception_3a/5x5_reduce\t(16, 192, 1, 1) (16,)\n",
      "inception_3a/5x5\t(32, 16, 5, 5) (32,)\n",
      "inception_3a/pool_proj\t(32, 192, 1, 1) (32,)\n",
      "inception_3b/1x1\t(128, 256, 1, 1) (128,)\n",
      "inception_3b/3x3_reduce\t(128, 256, 1, 1) (128,)\n",
      "inception_3b/3x3\t(192, 128, 3, 3) (192,)\n",
      "inception_3b/5x5_reduce\t(32, 256, 1, 1) (32,)\n",
      "inception_3b/5x5\t(96, 32, 5, 5) (96,)\n",
      "inception_3b/pool_proj\t(64, 256, 1, 1) (64,)\n",
      "inception_4a/1x1\t(192, 480, 1, 1) (192,)\n",
      "inception_4a/3x3_reduce\t(96, 480, 1, 1) (96,)\n",
      "inception_4a/3x3\t(208, 96, 3, 3) (208,)\n",
      "inception_4a/5x5_reduce\t(16, 480, 1, 1) (16,)\n",
      "inception_4a/5x5\t(48, 16, 5, 5) (48,)\n",
      "inception_4a/pool_proj\t(64, 480, 1, 1) (64,)\n",
      "loss1/conv\t(128, 512, 1, 1) (128,)\n",
      "loss1/fc\t(1024, 2048) (1024,)\n",
      "loss1/classifier\t(4, 1024) (4,)\n",
      "inception_4b/1x1\t(160, 512, 1, 1) (160,)\n",
      "inception_4b/3x3_reduce\t(112, 512, 1, 1) (112,)\n",
      "inception_4b/3x3\t(224, 112, 3, 3) (224,)\n",
      "inception_4b/5x5_reduce\t(24, 512, 1, 1) (24,)\n",
      "inception_4b/5x5\t(64, 24, 5, 5) (64,)\n",
      "inception_4b/pool_proj\t(64, 512, 1, 1) (64,)\n",
      "inception_4c/1x1\t(128, 512, 1, 1) (128,)\n",
      "inception_4c/3x3_reduce\t(128, 512, 1, 1) (128,)\n",
      "inception_4c/3x3\t(256, 128, 3, 3) (256,)\n",
      "inception_4c/5x5_reduce\t(24, 512, 1, 1) (24,)\n",
      "inception_4c/5x5\t(64, 24, 5, 5) (64,)\n",
      "inception_4c/pool_proj\t(64, 512, 1, 1) (64,)\n",
      "inception_4d/1x1\t(112, 512, 1, 1) (112,)\n",
      "inception_4d/3x3_reduce\t(144, 512, 1, 1) (144,)\n",
      "inception_4d/3x3\t(288, 144, 3, 3) (288,)\n",
      "inception_4d/5x5_reduce\t(32, 512, 1, 1) (32,)\n",
      "inception_4d/5x5\t(64, 32, 5, 5) (64,)\n",
      "inception_4d/pool_proj\t(64, 512, 1, 1) (64,)\n",
      "loss2/conv\t(128, 528, 1, 1) (128,)\n",
      "loss2/fc\t(1024, 2048) (1024,)\n",
      "loss2/classifier\t(4, 1024) (4,)\n",
      "inception_4e/1x1\t(256, 528, 1, 1) (256,)\n",
      "inception_4e/3x3_reduce\t(160, 528, 1, 1) (160,)\n",
      "inception_4e/3x3\t(320, 160, 3, 3) (320,)\n",
      "inception_4e/5x5_reduce\t(32, 528, 1, 1) (32,)\n",
      "inception_4e/5x5\t(128, 32, 5, 5) (128,)\n",
      "inception_4e/pool_proj\t(128, 528, 1, 1) (128,)\n",
      "inception_5a/1x1\t(256, 832, 1, 1) (256,)\n",
      "inception_5a/3x3_reduce\t(160, 832, 1, 1) (160,)\n",
      "inception_5a/3x3\t(320, 160, 3, 3) (320,)\n",
      "inception_5a/5x5_reduce\t(32, 832, 1, 1) (32,)\n",
      "inception_5a/5x5\t(128, 32, 5, 5) (128,)\n",
      "inception_5a/pool_proj\t(128, 832, 1, 1) (128,)\n",
      "inception_5b/1x1\t(384, 832, 1, 1) (384,)\n",
      "inception_5b/3x3_reduce\t(192, 832, 1, 1) (192,)\n",
      "inception_5b/3x3\t(384, 192, 3, 3) (384,)\n",
      "inception_5b/5x5_reduce\t(48, 832, 1, 1) (48,)\n",
      "inception_5b/5x5\t(128, 48, 5, 5) (128,)\n",
      "inception_5b/pool_proj\t(128, 832, 1, 1) (128,)\n",
      "loss3/classifier\t(4, 1024) (4,)\n"
     ]
    }
   ],
   "source": [
    "for layer_name, param in net.params.iteritems():\n",
    "    print layer_name + '\\t' + str(param[0].data.shape), str(param[1].data.shape)"
   ]
  },
  {
   "cell_type": "code",
   "execution_count": 126,
   "metadata": {
    "collapsed": false
   },
   "outputs": [],
   "source": [
    "# conv1\t(96, 3, 11, 11) (96,)\n",
    "# conv2\t(256, 48, 5, 5) (256,)\n",
    "# conv3\t(384, 256, 3, 3) (384,)\n",
    "# conv4\t(384, 192, 3, 3) (384,)\n",
    "# conv5\t(256, 192, 3, 3) (256,)\n",
    "# fc6\t(4096, 9216) (4096,)\n",
    "# fc7\t(4096, 4096) (4096,)\n",
    "# fc8\t(1000, 4096) (1000,)\n",
    "\n",
    "# probs = np.zeros_like(net.blobs['prob'].data)\n",
    "# probs[0][intended_outcome]=1\n",
    "\n",
    "# net.blobs['prob'].diff[0][1]=1\n",
    "#net.blobs['prob'].diff[0]\n",
    "\n",
    "import pickle\n",
    "\n",
    "pickle.dump( net.backward(), open( \"backwardOut.p\", \"wb\"))\n",
    "\n",
    "# bottom_diff = net.backward(**{net.outputs[0]: net.blobs['prob'].data})"
   ]
  },
  {
   "cell_type": "markdown",
   "metadata": {},
   "source": [
    "* Since we're dealing with four-dimensional data here, we'll define a helper function for visualizing sets of rectangular heatmaps."
   ]
  },
  {
   "cell_type": "code",
   "execution_count": 117,
   "metadata": {
    "collapsed": false
   },
   "outputs": [],
   "source": [
    "def vis_square(data):\n",
    "    \"\"\"Take an array of shape (n, height, width) or (n, height, width, 3)\n",
    "       and visualize each (height, width) thing in a grid of size approx. sqrt(n) by sqrt(n)\"\"\"\n",
    "    \n",
    "    # normalize data for display\n",
    "    data = (data - data.min()) / (data.max() - data.min())\n",
    "    \n",
    "    # force the number of filters to be square\n",
    "    n = int(np.ceil(np.sqrt(data.shape[0])))\n",
    "    padding = (((0, n ** 2 - data.shape[0]),\n",
    "               (0, 1), (0, 1))                 # add some space between filters\n",
    "               + ((0, 0),) * (data.ndim - 3))  # don't pad the last dimension (if there is one)\n",
    "    data = np.pad(data, padding, mode='constant', constant_values=1)  # pad with ones (white)\n",
    "    \n",
    "    # tile the filters into an image\n",
    "    data = data.reshape((n, n) + data.shape[1:]).transpose((0, 2, 1, 3) + tuple(range(4, data.ndim + 1)))\n",
    "    data = data.reshape((n * data.shape[1], n * data.shape[3]) + data.shape[4:])\n",
    "    \n",
    "    plt.imshow(data); plt.axis('off')"
   ]
  },
  {
   "cell_type": "markdown",
   "metadata": {},
   "source": [
    "* First we'll look at the first layer filters, `conv1`"
   ]
  },
  {
   "cell_type": "code",
   "execution_count": 123,
   "metadata": {
    "collapsed": false
   },
   "outputs": [
    {
     "data": {
      "text/plain": [
       "array([[[ 0.01848076,  0.        ,  0.01044323, ...,  0.        ,\n",
       "          0.        ,  0.        ],\n",
       "        [ 0.        ,  0.        ,  0.        , ...,  0.        ,\n",
       "          0.        ,  0.        ],\n",
       "        [ 0.        ,  0.        ,  0.        , ...,  0.        ,\n",
       "          0.        ,  0.        ],\n",
       "        ..., \n",
       "        [ 0.        ,  0.        ,  0.        , ...,  0.        ,\n",
       "          0.        ,  0.        ],\n",
       "        [ 0.        ,  0.        ,  0.        , ...,  0.        ,\n",
       "          0.        ,  0.        ],\n",
       "        [ 0.        ,  0.        ,  0.        , ...,  0.        ,\n",
       "          0.        ,  0.        ]],\n",
       "\n",
       "       [[ 0.        ,  0.        ,  0.        , ...,  0.        ,\n",
       "          0.        ,  0.        ],\n",
       "        [ 0.        ,  0.        ,  0.        , ...,  0.        ,\n",
       "          0.        ,  0.        ],\n",
       "        [ 0.        ,  0.        ,  0.        , ...,  0.        ,\n",
       "          0.        ,  0.        ],\n",
       "        ..., \n",
       "        [ 0.        ,  0.        ,  0.        , ...,  0.        ,\n",
       "          0.        ,  0.        ],\n",
       "        [ 0.        ,  0.        ,  0.        , ...,  0.        ,\n",
       "          0.        ,  0.        ],\n",
       "        [ 0.        ,  0.        ,  0.        , ...,  0.        ,\n",
       "          0.        ,  0.        ]],\n",
       "\n",
       "       [[ 0.        ,  0.        ,  0.        , ...,  0.        ,\n",
       "          0.        ,  0.        ],\n",
       "        [ 0.        ,  0.        ,  0.        , ...,  0.        ,\n",
       "          0.        ,  0.        ],\n",
       "        [ 0.        ,  0.        ,  0.        , ...,  0.        ,\n",
       "          0.        ,  0.        ],\n",
       "        ..., \n",
       "        [ 0.        ,  0.        ,  0.        , ...,  0.        ,\n",
       "          0.        ,  0.        ],\n",
       "        [ 0.        ,  0.        ,  0.        , ...,  0.        ,\n",
       "          0.        ,  0.        ],\n",
       "        [ 0.        ,  0.        ,  0.        , ...,  0.        ,\n",
       "          0.        ,  0.        ]],\n",
       "\n",
       "       ..., \n",
       "       [[ 0.34915495,  0.31461173,  0.32655239, ...,  0.24340257,\n",
       "          0.07705295,  0.05425264],\n",
       "        [ 0.34687686,  0.30825531,  0.33988282, ...,  0.27316561,\n",
       "          0.09700699,  0.07361234],\n",
       "        [ 0.39299986,  0.35968456,  0.40418196, ...,  0.37443906,\n",
       "          0.19312719,  0.1656428 ],\n",
       "        ..., \n",
       "        [ 0.40383103,  0.32297301,  0.36609983, ...,  0.37092805,\n",
       "          0.19287148,  0.20133662],\n",
       "        [ 0.09196734,  0.01815853,  0.05276813, ...,  0.0420658 ,\n",
       "          0.        ,  0.        ],\n",
       "        [ 0.05394064,  0.        ,  0.02178122, ...,  0.00642928,\n",
       "          0.        ,  0.        ]],\n",
       "\n",
       "       [[ 0.        ,  0.        ,  0.        , ...,  0.        ,\n",
       "          0.        ,  0.        ],\n",
       "        [ 0.        ,  0.        ,  0.        , ...,  0.        ,\n",
       "          0.        ,  0.        ],\n",
       "        [ 0.        ,  0.        ,  0.        , ...,  0.        ,\n",
       "          0.        ,  0.        ],\n",
       "        ..., \n",
       "        [ 0.        ,  0.        ,  0.        , ...,  0.        ,\n",
       "          0.        ,  0.        ],\n",
       "        [ 0.        ,  0.        ,  0.        , ...,  0.        ,\n",
       "          0.        ,  0.        ],\n",
       "        [ 0.        ,  0.        ,  0.        , ...,  0.        ,\n",
       "          0.        ,  0.        ]],\n",
       "\n",
       "       [[ 0.13573107,  0.13742873,  0.13993095, ...,  0.08635359,\n",
       "          0.0555943 ,  0.03867611],\n",
       "        [ 0.10363552,  0.12858766,  0.11463018, ...,  0.05338973,\n",
       "          0.02683844,  0.01605722],\n",
       "        [ 0.00978506,  0.03829215,  0.01763766, ...,  0.        ,\n",
       "          0.        ,  0.        ],\n",
       "        ..., \n",
       "        [ 0.00587587,  0.01044962,  0.00237401, ...,  0.        ,\n",
       "          0.        ,  0.        ],\n",
       "        [ 0.        ,  0.        ,  0.        , ...,  0.        ,\n",
       "          0.        ,  0.        ],\n",
       "        [ 0.        ,  0.        ,  0.        , ...,  0.        ,\n",
       "          0.        ,  0.        ]]], dtype=float32)"
      ]
     },
     "execution_count": 123,
     "metadata": {},
     "output_type": "execute_result"
    }
   ],
   "source": [
    "net.blobs['inception_5b/pool_proj'].data[0]"
   ]
  },
  {
   "cell_type": "code",
   "execution_count": 122,
   "metadata": {
    "collapsed": false
   },
   "outputs": [
    {
     "data": {
      "image/png": "[encoded data removed]",
      "text/plain": [
       "<matplotlib.figure.Figure at 0x7f29b5cc4a50>"
      ]
     },
     "metadata": {},
     "output_type": "display_data"
    }
   ],
   "source": [
    "# inception_5b/1x1\t(384, 832, 1, 1) (384,)\n",
    "# inception_5b/3x3_reduce\t(192, 832, 1, 1) (192,)\n",
    "# inception_5b/3x3\t(384, 192, 3, 3) (384,)\n",
    "# inception_5b/5x5_reduce\t(48, 832, 1, 1) (48,)\n",
    "# inception_5b/5x5\t(128, 48, 5, 5) (128,)\n",
    "# inception_5b/pool_proj\t(128, 832, 1, 1) (128,)\n",
    "feat = net.blobs['inception_5b/pool_proj'].data[0]\n",
    "vis_square(feat)\n",
    "# filters = net.params['inception_5b/3x3'][0].data\n",
    "# vis_square(filters.transpose(0, 2, 3, 1))"
   ]
  },
  {
   "cell_type": "code",
   "execution_count": 78,
   "metadata": {
    "collapsed": false
   },
   "outputs": [
    {
     "data": {
      "image/png": "[encoded data removed]",
      "text/plain": [
       "<matplotlib.figure.Figure at 0x7f29b5b9bb10>"
      ]
     },
     "metadata": {},
     "output_type": "display_data"
    }
   ],
   "source": [
    "# the parameters are a list of [weights, biases]\n",
    "filters = net.params['conv1/7x7_s2'][0].data\n",
    "vis_square(filters.transpose(0, 2, 3, 1))"
   ]
  },
  {
   "cell_type": "code",
   "execution_count": null,
   "metadata": {
    "collapsed": true
   },
   "outputs": [],
   "source": []
  },
  {
   "cell_type": "markdown",
   "metadata": {},
   "source": [
    "* The first layer output, `conv1` (rectified responses of the filters above, first 36 only)"
   ]
  },
  {
   "cell_type": "code",
   "execution_count": 79,
   "metadata": {
    "collapsed": false
   },
   "outputs": [
    {
     "data": {
      "image/png": "[encoded data removed]",
      "text/plain": [
       "<matplotlib.figure.Figure at 0x7f29b6cff510>"
      ]
     },
     "metadata": {},
     "output_type": "display_data"
    }
   ],
   "source": [
    "feat = net.blobs['conv1/7x7_s2'].data[0]#, :36]\n",
    "vis_square(feat)"
   ]
  },
  {
   "cell_type": "markdown",
   "metadata": {},
   "source": [
    "* The fifth layer after pooling, `pool5`"
   ]
  },
  {
   "cell_type": "code",
   "execution_count": 80,
   "metadata": {
    "collapsed": false
   },
   "outputs": [
    {
     "data": {
      "image/png": "[encoded data removed]",
      "text/plain": [
       "<matplotlib.figure.Figure at 0x7f29b6a7de50>"
      ]
     },
     "metadata": {},
     "output_type": "display_data"
    }
   ],
   "source": [
    "feat = net.blobs['inception_5b/pool_proj'].data[0]#'pool5'].data[0]\n",
    "vis_square(feat)"
   ]
  },
  {
   "cell_type": "markdown",
   "metadata": {},
   "source": [
    "* The first fully connected layer, `fc6` (rectified)\n",
    "\n",
    "    We show the output values and the histogram of the positive values"
   ]
  },
  {
   "cell_type": "code",
   "execution_count": 81,
   "metadata": {
    "collapsed": false
   },
   "outputs": [
    {
     "data": {
      "image/png": "[encoded data removed]",
      "text/plain": [
       "<matplotlib.figure.Figure at 0x7f29b687fd10>"
      ]
     },
     "metadata": {},
     "output_type": "display_data"
    }
   ],
   "source": [
    "feat = net.blobs['loss2/fc'].data[0]#'fc6'].data[0]\n",
    "plt.subplot(2, 1, 1)\n",
    "plt.plot(feat.flat)\n",
    "plt.subplot(2, 1, 2)\n",
    "_ = plt.hist(feat.flat[feat.flat > 0], bins=100)"
   ]
  },
  {
   "cell_type": "markdown",
   "metadata": {},
   "source": [
    "* The final probability output, `prob`"
   ]
  },
  {
   "cell_type": "code",
   "execution_count": 82,
   "metadata": {
    "collapsed": false
   },
   "outputs": [
    {
     "data": {
      "text/plain": [
       "[<matplotlib.lines.Line2D at 0x7f29b59b1e10>]"
      ]
     },
     "execution_count": 82,
     "metadata": {},
     "output_type": "execute_result"
    },
    {
     "data": {
      "image/png": "[encoded data removed]",
      "text/plain": [
       "<matplotlib.figure.Figure at 0x7f29b58f6450>"
      ]
     },
     "metadata": {},
     "output_type": "display_data"
    }
   ],
   "source": [
    "feat = net.blobs['prob'].data[0]\n",
    "plt.figure(figsize=(15, 3))\n",
    "plt.plot(feat.flat)"
   ]
  },
  {
   "cell_type": "markdown",
   "metadata": {},
   "source": [
    "Note the cluster of strong predictions; the labels are sorted semantically. The top peaks correspond to the top predicted labels, as shown above."
   ]
  },
  {
   "cell_type": "markdown",
   "metadata": {},
   "source": [
    "### 6. Try your own image\n",
    "\n",
    "Now we'll grab an image from the web and classify it using the steps above.\n",
    "\n",
    "* Try setting `my_image_url` to any JPEG image URL."
   ]
  },
  {
   "cell_type": "code",
   "execution_count": null,
   "metadata": {
    "collapsed": false
   },
   "outputs": [],
   "source": [
    "# download an image\n",
    "my_image_url = \"...\"  # paste your URL here\n",
    "# for example:\n",
    "# my_image_url = \"https://upload.wikimedia.org/wikipedia/commons/b/be/Orang_Utan%2C_Semenggok_Forest_Reserve%2C_Sarawak%2C_Borneo%2C_Malaysia.JPG\"\n",
    "!wget -O image.jpg $my_image_url\n",
    "\n",
    "# transform it and copy it into the net\n",
    "image = caffe.io.load_image('image.jpg')\n",
    "net.blobs['data'].data[...] = transformer.preprocess('data', image)\n",
    "\n",
    "# perform classification\n",
    "net.forward()\n",
    "\n",
    "# obtain the output probabilities\n",
    "output_prob = net.blobs['prob'].data[0]\n",
    "\n",
    "# sort top five predictions from softmax output\n",
    "top_inds = output_prob.argsort()[::-1][:5]\n",
    "\n",
    "plt.imshow(image)\n",
    "\n",
    "print 'probabilities and labels:'\n",
    "zip(output_prob[top_inds], labels[top_inds])"
   ]
  }
 ],
 "metadata": {
  "description": "Instant recognition with a pre-trained model and a tour of the net interface for visualizing features and parameters layer-by-layer.",
  "example_name": "Image Classification and Filter Visualization",
  "include_in_docs": true,
  "kernelspec": {
   "display_name": "Python 2",
   "language": "python",
   "name": "python2"
  },
  "language_info": {
   "codemirror_mode": {
    "name": "ipython",
    "version": 2
   },
   "file_extension": ".py",
   "mimetype": "text/x-python",
   "name": "python",
   "nbconvert_exporter": "python",
   "pygments_lexer": "ipython2",
   "version": "2.7.11"
  },
  "priority": 1
 },
 "nbformat": 4,
 "nbformat_minor": 0
}
